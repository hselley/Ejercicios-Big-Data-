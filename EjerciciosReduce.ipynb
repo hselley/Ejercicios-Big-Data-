{
 "cells": [
  {
   "cell_type": "markdown",
   "id": "976cedda-5995-4e07-a41e-006fbebede6b",
   "metadata": {},
   "source": [
    "## Código 5.1 \n",
    "Las tres partes de reduce"
   ]
  },
  {
   "cell_type": "code",
   "execution_count": 31,
   "id": "daafa347-650d-45e4-a079-4fef1db77f7a",
   "metadata": {},
   "outputs": [
    {
     "data": {
      "text/plain": [
       "249"
      ]
     },
     "execution_count": 31,
     "metadata": {},
     "output_type": "execute_result"
    }
   ],
   "source": [
    "from functools import reduce\n",
    "\n",
    "xs = [10, 5, 1, 19, 11, 203]\n",
    "\n",
    "reduce(my_add, xs, 0)"
   ]
  },
  {
   "cell_type": "markdown",
   "id": "69c0ebc4-b067-4910-86c7-67759504c5b0",
   "metadata": {},
   "source": [
    "## Código 5.2\n",
    "Una función acumulador para la suma"
   ]
  },
  {
   "cell_type": "code",
   "execution_count": 26,
   "id": "7702a544-1b30-48d3-8d16-ae5deb9dc848",
   "metadata": {},
   "outputs": [],
   "source": [
    "def my_add(acc, nxt):\n",
    "    return acc + nxt"
   ]
  },
  {
   "cell_type": "markdown",
   "id": "fd6564c6-267d-4b44-855e-ac62d48a522a",
   "metadata": {},
   "source": [
    "## Código 5.3\n",
    "Una función _lambda_ dentro de la sumatoria *reduce*"
   ]
  },
  {
   "cell_type": "code",
   "execution_count": 28,
   "id": "21f8bc5d-b536-4717-857b-d798f1bc34db",
   "metadata": {},
   "outputs": [
    {
     "name": "stdout",
     "output_type": "stream",
     "text": [
      "249\n"
     ]
    }
   ],
   "source": [
    "from functools import reduce\n",
    "\n",
    "xs = [10, 5, 1, 19, 11, 203]\n",
    "\n",
    "print(reduce(lambda acc, nxt: acc + nxt, xs, 0))"
   ]
  },
  {
   "cell_type": "markdown",
   "id": "baf53cc4-f271-42d8-8593-96d79451371c",
   "metadata": {},
   "source": [
    "## Código 5.4 \n",
    "Las funciones lambda pueden ser utilizadas para exponer valores contenidos en una clase (diccionario)"
   ]
  },
  {
   "cell_type": "code",
   "execution_count": 30,
   "id": "408a40cd-059b-47bb-838e-336695763dbe",
   "metadata": {},
   "outputs": [
    {
     "data": {
      "text/plain": [
       "164.96"
      ]
     },
     "execution_count": 30,
     "metadata": {},
     "output_type": "execute_result"
    }
   ],
   "source": [
    "from functools import reduce\n",
    "\n",
    "my_products = [\n",
    "    {\"price\": 9.99, \"sn\": '00231'},\n",
    "    {\"price\": 59.99, \"sn\": '11010'},\n",
    "    {\"price\": 74.99, \"sn\": '00013'},\n",
    "    {\"price\": 19.99, \"sn\": '00831'},\n",
    "]\n",
    "\n",
    "reduce(lambda acc, nxt: acc + nxt.get(\"price\", 0), my_products, 0)"
   ]
  },
  {
   "cell_type": "markdown",
   "id": "3e5fc2b0-8e9c-4b93-811e-b66348e9264a",
   "metadata": {},
   "source": [
    "## Código 5.5\n",
    "Sumatoria de una lista en un flotante mediante _reduce_"
   ]
  },
  {
   "cell_type": "code",
   "execution_count": 3,
   "id": "16b3cd8a-fe0c-4dad-b235-1d9c971e8352",
   "metadata": {},
   "outputs": [
    {
     "name": "stdout",
     "output_type": "stream",
     "text": [
      "249.0\n"
     ]
    }
   ],
   "source": [
    "from functools import reduce\n",
    "\n",
    "xs = [10, 5, 1, 19, 11, 203]\n",
    "\n",
    "print(reduce(lambda acc, nxt: acc+nxt, xs, 0.0))\n",
    "\n",
    "# La suma se hace en pares y se acumula el resultado, esto es:\n",
    "# add(0.0, 10) => 10.0\n",
    "# add(10.0, 5) => 15.0\n",
    "# add(15.0, 1) => 16.0\n",
    "# add(16.0, 19) => 35.0\n",
    "# add(35.0, 11) => 46.0\n",
    "# add(46.0, 203) => 249.0"
   ]
  },
  {
   "cell_type": "markdown",
   "id": "2bd6202a-2e0f-4e46-acef-26d69a9e0c39",
   "metadata": {},
   "source": [
    "## Código 5.6\n",
    "Filtrar valores impares"
   ]
  },
  {
   "cell_type": "code",
   "execution_count": 4,
   "id": "5e73cbb3-476d-460d-9eae-2856be4a2a4f",
   "metadata": {},
   "outputs": [
    {
     "data": {
      "text/plain": [
       "[0, 2, 4, 6, 8]"
      ]
     },
     "execution_count": 4,
     "metadata": {},
     "output_type": "execute_result"
    }
   ],
   "source": [
    "from functools import reduce\n",
    "\n",
    "xs = [i for i in range(10)]\n",
    "\n",
    "def keep_if_even(acc, nxt):\n",
    "    if nxt%2 == 0:\n",
    "        return acc + [nxt]\n",
    "        # No se usa append dado que es indispensable para esta \n",
    "        # construcción que la función devuelva la lista como \n",
    "        # resultado. Append devuelve None, por ello no sirve \n",
    "        # para este propósito.\n",
    "    else:\n",
    "        return acc\n",
    "\n",
    "reduce(keep_if_even, xs, [])"
   ]
  },
  {
   "cell_type": "markdown",
   "id": "9fb9c60b-6857-4f78-9465-8ee62a7bca05",
   "metadata": {},
   "source": [
    "### Agregar un elemento a una lista. \n",
    "No se usa append dado que es indispensable para esta construcción que la función devuelva la lista como resultado. Append devuelve None, por ello no sirve para este propósito."
   ]
  },
  {
   "cell_type": "code",
   "execution_count": 5,
   "id": "1c702845-cbc5-4379-bc70-4c36a35660d7",
   "metadata": {},
   "outputs": [
    {
     "data": {
      "text/plain": [
       "[2, 3, 4, 5]"
      ]
     },
     "execution_count": 5,
     "metadata": {},
     "output_type": "execute_result"
    }
   ],
   "source": [
    "lista = [2,3,4]\n",
    "lista + [5]"
   ]
  },
  {
   "cell_type": "markdown",
   "id": "89338712-bd83-4e52-ab0b-399c68ce4b07",
   "metadata": {},
   "source": [
    "## Código 5.7\n",
    "Encontrar las frecuencias utilizando una reducción"
   ]
  },
  {
   "cell_type": "code",
   "execution_count": 8,
   "id": "a2a39fec-02d7-4c79-9986-8751ad094d4e",
   "metadata": {},
   "outputs": [
    {
     "name": "stdout",
     "output_type": "stream",
     "text": [
      "{'A': 3, 'B': 1, 'C': 2}\n",
      "{1: 2, 3: 1, 6: 1, 2: 2, 5: 1, 4: 2}\n",
      "{'m': 1, 'i': 4, 's': 4, 'p': 1}\n"
     ]
    }
   ],
   "source": [
    "from functools import reduce\n",
    "\n",
    "def make_counts(acc, nxt):\n",
    "    acc[nxt] = acc.get(nxt, 0) + 1\n",
    "    return acc\n",
    "\n",
    "def my_frequencies(xs):\n",
    "    return reduce(make_counts, xs, {})\n",
    "\n",
    "xs = [\"A\", \"B\", \"C\", \"A\", \"A\", \"C\"]\n",
    "ys = [1, 3, 6, 1, 2, 5, 4, 2, 4]\n",
    "\n",
    "print(my_frequencies(xs))\n",
    "print(my_frequencies(ys))\n",
    "print(my_frequencies(\"mississipi\"))      "
   ]
  },
  {
   "cell_type": "markdown",
   "id": "ca44f75e-47dc-4c66-851d-4cff52bc566b",
   "metadata": {},
   "source": [
    "Se crea un diccionario vacío en el _reduce_ de la función my_frequencies. En este diccionario se almacenarán las letras (llave) y la frecuencia (valor) de aparición en la lista de entrada. "
   ]
  },
  {
   "cell_type": "markdown",
   "id": "0946feaf-a3df-4935-94e2-2ca05981438d",
   "metadata": {},
   "source": [
    "## Ejercicio 1.\n",
    "Dada una lista de entrada con palabras, crear una puntuación para cada letra de cada palabra en la lista y almacenar la puntuación en una lista. Crear un código en Python para realizar este proceso mediante la metodología _map-reduce_.\n",
    "\n",
    "![Ejercicio 1](img/Ejercicio01.png)"
   ]
  },
  {
   "cell_type": "markdown",
   "id": "ca4e5dc6-df61-4c8e-9d5e-e9cbe3e87c15",
   "metadata": {},
   "source": [
    "Considere el siguiente puntaje:\n",
    "* Z: 10 puntos\n",
    "* F, H, V, W: 5 puntos\n",
    "* B, C, M, P: 3 puntos\n",
    "* Cualquier otra letra: 1 punto"
   ]
  },
  {
   "cell_type": "markdown",
   "id": "689b7a3c-3699-46b8-b642-d2f28694a84a",
   "metadata": {},
   "source": [
    "## Código 5.8\n",
    "Puntuación de palabras con _map_ y _reduce_"
   ]
  },
  {
   "cell_type": "code",
   "execution_count": 12,
   "id": "bc95bca2-e46a-4921-8de7-672413de2f0a",
   "metadata": {},
   "outputs": [
    {
     "name": "stdout",
     "output_type": "stream",
     "text": [
      "57\n"
     ]
    }
   ],
   "source": [
    "from functools import reduce\n",
    "\n",
    "def score_word(word):\n",
    "    points = 0\n",
    "    for char in word:\n",
    "        if char == \"z\": points += 10\n",
    "        elif char in [\"f\", \"h\", \"v\", \"w\"]: points += 5\n",
    "        elif char in [\"b\", \"c\", \"m\", \"p\"]: points += 3\n",
    "        else: points += 1\n",
    "    return points\n",
    "\n",
    "words = [\"these\", \"are\", \"my\", \"words\", \"but\", \"these\", \"are\", \"not\", \"myself\"]\n",
    "\n",
    "total_score = reduce(lambda acc, nxt: acc + nxt, map(score_word, words), 0)\n",
    "print(total_score)"
   ]
  },
  {
   "cell_type": "markdown",
   "id": "6f8feca7-7e38-433f-b4fb-b40393388f34",
   "metadata": {},
   "source": [
    "## Ejercicio 2\n",
    "Su cliente es una agencia de autos usados. La agencia tiene datos de autos que compraron y vendieron en los últimos seis meses y desean que se determine con que tipo de auto obtienen la mayor ganancia. \n",
    "\n",
    "Un vendedor cree que los autos que ofrecen mejor desempeño de combustible proporcionan la mayor ganancia, mientras que otro vendedor cree que los autos que tienen un uso entre 60,000 y 100,000 millas ocasionan la mayor ganancia.\n",
    "\n",
    "Dado un archivo CSV con una diversidad de atributos acerca de los autos usados, escriba un script que determine la ganancia promedio en autos de baja (<18 mpg), media (18-35 mpg) y alta (>35 mpg) eficiencia de consumo de combustible, así como de bajo (<60,000 millas), medio (60,000-100,000 millas) y alto (>100,000 millas) uso en millas."
   ]
  },
  {
   "cell_type": "markdown",
   "id": "51802a30-6d31-4555-96a2-5d6c7a3d9d7b",
   "metadata": {},
   "source": [
    "## Código 5.13 "
   ]
  },
  {
   "cell_type": "code",
   "execution_count": null,
   "id": "9c2e9881-0f69-44e3-a10c-0dcdbf9f4213",
   "metadata": {},
   "outputs": [],
   "source": []
  }
 ],
 "metadata": {
  "kernelspec": {
   "display_name": "Python 3 (ipykernel)",
   "language": "python",
   "name": "python3"
  },
  "language_info": {
   "codemirror_mode": {
    "name": "ipython",
    "version": 3
   },
   "file_extension": ".py",
   "mimetype": "text/x-python",
   "name": "python",
   "nbconvert_exporter": "python",
   "pygments_lexer": "ipython3",
   "version": "3.11.3"
  }
 },
 "nbformat": 4,
 "nbformat_minor": 5
}
