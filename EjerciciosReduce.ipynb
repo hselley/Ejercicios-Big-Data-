{
 "cells": [
  {
   "cell_type": "markdown",
   "id": "976cedda-5995-4e07-a41e-006fbebede6b",
   "metadata": {},
   "source": [
    "# Código 5.1 \n",
    "Las tres partes de reduce"
   ]
  },
  {
   "cell_type": "code",
   "execution_count": 31,
   "id": "daafa347-650d-45e4-a079-4fef1db77f7a",
   "metadata": {},
   "outputs": [
    {
     "data": {
      "text/plain": [
       "249"
      ]
     },
     "execution_count": 31,
     "metadata": {},
     "output_type": "execute_result"
    }
   ],
   "source": [
    "from functools import reduce\n",
    "\n",
    "xs = [10, 5, 1, 19, 11, 203]\n",
    "\n",
    "reduce(my_add, xs, 0)"
   ]
  },
  {
   "cell_type": "markdown",
   "id": "69c0ebc4-b067-4910-86c7-67759504c5b0",
   "metadata": {},
   "source": [
    "# Código 5.2\n",
    "Una función acumulador para la suma"
   ]
  },
  {
   "cell_type": "code",
   "execution_count": 26,
   "id": "7702a544-1b30-48d3-8d16-ae5deb9dc848",
   "metadata": {},
   "outputs": [],
   "source": [
    "def my_add(acc, nxt):\n",
    "    return acc + nxt"
   ]
  },
  {
   "cell_type": "markdown",
   "id": "fd6564c6-267d-4b44-855e-ac62d48a522a",
   "metadata": {},
   "source": [
    "# Código 5.3\n",
    "Una función _lambda_ dentro de la sumatoria *reduce*"
   ]
  },
  {
   "cell_type": "code",
   "execution_count": 28,
   "id": "21f8bc5d-b536-4717-857b-d798f1bc34db",
   "metadata": {},
   "outputs": [
    {
     "name": "stdout",
     "output_type": "stream",
     "text": [
      "249\n"
     ]
    }
   ],
   "source": [
    "from functools import reduce\n",
    "\n",
    "xs = [10, 5, 1, 19, 11, 203]\n",
    "\n",
    "print(reduce(lambda acc, nxt: acc + nxt, xs, 0))"
   ]
  },
  {
   "cell_type": "markdown",
   "id": "baf53cc4-f271-42d8-8593-96d79451371c",
   "metadata": {},
   "source": [
    "# Código 5.4 \n",
    "Las funciones lambda pueden ser utilizadas para exponer valores contenidos en una clase (diccionario)"
   ]
  },
  {
   "cell_type": "code",
   "execution_count": 30,
   "id": "408a40cd-059b-47bb-838e-336695763dbe",
   "metadata": {},
   "outputs": [
    {
     "data": {
      "text/plain": [
       "164.96"
      ]
     },
     "execution_count": 30,
     "metadata": {},
     "output_type": "execute_result"
    }
   ],
   "source": [
    "from functools import reduce\n",
    "\n",
    "my_products = [\n",
    "    {\"price\": 9.99, \"sn\": '00231'},\n",
    "    {\"price\": 59.99, \"sn\": '11010'},\n",
    "    {\"price\": 74.99, \"sn\": '00013'},\n",
    "    {\"price\": 19.99, \"sn\": '00831'},\n",
    "]\n",
    "\n",
    "reduce(lambda acc, nxt: acc + nxt.get(\"price\", 0), my_products, 0)"
   ]
  },
  {
   "cell_type": "markdown",
   "id": "3e5fc2b0-8e9c-4b93-811e-b66348e9264a",
   "metadata": {},
   "source": [
    "# Código 5.5\n",
    "Sumatoria de una lista en un flotante mediante _reduce_"
   ]
  },
  {
   "cell_type": "code",
   "execution_count": 3,
   "id": "16b3cd8a-fe0c-4dad-b235-1d9c971e8352",
   "metadata": {},
   "outputs": [
    {
     "name": "stdout",
     "output_type": "stream",
     "text": [
      "249.0\n"
     ]
    }
   ],
   "source": [
    "from functools import reduce\n",
    "\n",
    "xs = [10, 5, 1, 19, 11, 203]\n",
    "\n",
    "print(reduce(lambda acc, nxt: acc+nxt, xs, 0.0))\n",
    "\n",
    "# La suma se hace en pares y se acumula el resultado, esto es:\n",
    "# add(0.0, 10) => 10.0\n",
    "# add(10.0, 5) => 15.0\n",
    "# add(15.0, 1) => 16.0\n",
    "# add(16.0, 19) => 35.0\n",
    "# add(35.0, 11) => 46.0\n",
    "# add(46.0, 203) => 249.0"
   ]
  },
  {
   "cell_type": "markdown",
   "id": "2bd6202a-2e0f-4e46-acef-26d69a9e0c39",
   "metadata": {},
   "source": [
    "# Código 5.6\n",
    "Filtrar valores impares"
   ]
  },
  {
   "cell_type": "code",
   "execution_count": 4,
   "id": "5e73cbb3-476d-460d-9eae-2856be4a2a4f",
   "metadata": {},
   "outputs": [
    {
     "data": {
      "text/plain": [
       "[0, 2, 4, 6, 8]"
      ]
     },
     "execution_count": 4,
     "metadata": {},
     "output_type": "execute_result"
    }
   ],
   "source": [
    "from functools import reduce\n",
    "\n",
    "xs = [i for i in range(10)]\n",
    "\n",
    "def keep_if_even(acc, nxt):\n",
    "    if nxt%2 == 0:\n",
    "        return acc + [nxt]\n",
    "        # No se usa append dado que es indispensable para esta \n",
    "        # construcción que la función devuelva la lista como \n",
    "        # resultado. Append devuelve None, por ello no sirve \n",
    "        # para este propósito.\n",
    "    else:\n",
    "        return acc\n",
    "\n",
    "reduce(keep_if_even, xs, [])"
   ]
  },
  {
   "cell_type": "markdown",
   "id": "9fb9c60b-6857-4f78-9465-8ee62a7bca05",
   "metadata": {},
   "source": [
    "## Agregar un elemento a una lista. \n",
    "No se usa append dado que es indispensable para esta construcción que la función devuelva la lista como resultado. Append devuelve None, por ello no sirve para este propósito."
   ]
  },
  {
   "cell_type": "code",
   "execution_count": 5,
   "id": "1c702845-cbc5-4379-bc70-4c36a35660d7",
   "metadata": {},
   "outputs": [
    {
     "data": {
      "text/plain": [
       "[2, 3, 4, 5]"
      ]
     },
     "execution_count": 5,
     "metadata": {},
     "output_type": "execute_result"
    }
   ],
   "source": [
    "lista = [2,3,4]\n",
    "lista + [5]"
   ]
  },
  {
   "cell_type": "markdown",
   "id": "89338712-bd83-4e52-ab0b-399c68ce4b07",
   "metadata": {},
   "source": [
    "# Código 5.7\n",
    "Encontrar las frecuencias utilizando una reducción"
   ]
  },
  {
   "cell_type": "code",
   "execution_count": 8,
   "id": "a2a39fec-02d7-4c79-9986-8751ad094d4e",
   "metadata": {},
   "outputs": [
    {
     "name": "stdout",
     "output_type": "stream",
     "text": [
      "{'A': 3, 'B': 1, 'C': 2}\n",
      "{1: 2, 3: 1, 6: 1, 2: 2, 5: 1, 4: 2}\n",
      "{'m': 1, 'i': 4, 's': 4, 'p': 1}\n"
     ]
    }
   ],
   "source": [
    "from functools import reduce\n",
    "\n",
    "def make_counts(acc, nxt):\n",
    "    acc[nxt] = acc.get(nxt, 0) + 1\n",
    "    return acc\n",
    "\n",
    "def my_frequencies(xs):\n",
    "    return reduce(make_counts, xs, {})\n",
    "\n",
    "xs = [\"A\", \"B\", \"C\", \"A\", \"A\", \"C\"]\n",
    "ys = [1, 3, 6, 1, 2, 5, 4, 2, 4]\n",
    "\n",
    "print(my_frequencies(xs))\n",
    "print(my_frequencies(ys))\n",
    "print(my_frequencies(\"mississipi\"))      "
   ]
  },
  {
   "cell_type": "markdown",
   "id": "ca44f75e-47dc-4c66-851d-4cff52bc566b",
   "metadata": {},
   "source": [
    "Se crea un diccionario vacío en el _reduce_ de la función my_frequencies. En este diccionario se almacenarán las letras (llave) y la frecuencia (valor) de aparición en la lista de entrada. "
   ]
  },
  {
   "cell_type": "markdown",
   "id": "0946feaf-a3df-4935-94e2-2ca05981438d",
   "metadata": {},
   "source": [
    "# Ejercicio 1.\n",
    "Dada una lista de entrada con palabras, crear una puntuación para cada letra de cada palabra en la lista y almacenar la puntuación en una lista. Crear un código en Python para realizar este proceso mediante la metodología _map-reduce_.\n",
    "\n",
    "![Ejercicio 1](img/Ejercicio01.png)"
   ]
  },
  {
   "cell_type": "markdown",
   "id": "ca4e5dc6-df61-4c8e-9d5e-e9cbe3e87c15",
   "metadata": {},
   "source": [
    "Considere el siguiente puntaje:\n",
    "* Z: 10 puntos\n",
    "* F, H, V, W: 5 puntos\n",
    "* B, C, M, P: 3 puntos\n",
    "* Cualquier otra letra: 1 punto"
   ]
  },
  {
   "cell_type": "markdown",
   "id": "689b7a3c-3699-46b8-b642-d2f28694a84a",
   "metadata": {},
   "source": [
    "# Código 5.8\n",
    "Puntuación de palabras con _map_ y _reduce_"
   ]
  },
  {
   "cell_type": "code",
   "execution_count": 12,
   "id": "bc95bca2-e46a-4921-8de7-672413de2f0a",
   "metadata": {},
   "outputs": [
    {
     "name": "stdout",
     "output_type": "stream",
     "text": [
      "57\n"
     ]
    }
   ],
   "source": [
    "from functools import reduce\n",
    "\n",
    "def score_word(word):\n",
    "    points = 0\n",
    "    for char in word:\n",
    "        if char == \"z\": points += 10\n",
    "        elif char in [\"f\", \"h\", \"v\", \"w\"]: points += 5\n",
    "        elif char in [\"b\", \"c\", \"m\", \"p\"]: points += 3\n",
    "        else: points += 1\n",
    "    return points\n",
    "\n",
    "words = [\"these\", \"are\", \"my\", \"words\", \"but\", \"these\", \"are\", \"not\", \"myself\"]\n",
    "\n",
    "total_score = reduce(lambda acc, nxt: acc + nxt, map(score_word, words), 0)\n",
    "print(total_score)"
   ]
  },
  {
   "cell_type": "markdown",
   "id": "6f8feca7-7e38-433f-b4fb-b40393388f34",
   "metadata": {},
   "source": [
    "# Ejercicio 2\n",
    "Su cliente es una agencia de autos usados. La agencia tiene datos de autos que compraron y vendieron en los últimos seis meses y desean que se determine con que tipo de auto obtienen la mayor ganancia. \n",
    "\n",
    "Un vendedor cree que los autos que ofrecen mejor desempeño de combustible proporcionan la mayor ganancia, mientras que otro vendedor cree que los autos que tienen un uso entre 60,000 y 100,000 millas ocasionan la mayor ganancia.\n",
    "\n",
    "Dado un archivo CSV con una diversidad de atributos acerca de los autos usados, escriba un script que determine la ganancia promedio en autos de baja (<18 mpg), media (18-35 mpg) y alta (>35 mpg) eficiencia de consumo de combustible, así como de bajo (<60,000 millas), medio (60,000-100,000 millas) y alto (>100,000 millas) uso en millas."
   ]
  },
  {
   "cell_type": "markdown",
   "id": "adbddc1d-0742-46eb-a676-8960718ce71c",
   "metadata": {},
   "source": [
    "## Análisis para el ejercicio 2\n",
    "![Análisis para el ejercicio 2](img/Ejercicio02-1.png)}"
   ]
  },
  {
   "cell_type": "markdown",
   "id": "2dc18a9f-4219-4aa7-8c5c-4e6f6c13bf6e",
   "metadata": {},
   "source": [
    "## Muestra de los datos de entrada\n",
    "![Muestra de los datos de entrada](img/Ejercicio02-2.png)"
   ]
  },
  {
   "cell_type": "markdown",
   "id": "b57a3420-1f89-4426-8468-3b79f6911e68",
   "metadata": {},
   "source": [
    "De los datos de entrada se necesita:\n",
    "1. Calcular la ganancia obtenida por el vehículo (valor de compra y venta)\n",
    "2. Ordenar los vehículos respecto a su consumo de combustible (mpg) en los rangos: bajo, medio y alto\n",
    "3. Ordenar los vehículos respecto a su uso (millas totales) en los rangos: bajo, medio y alto\n",
    "\n",
    "Para ello se desarrollaran funciones independientes que realicen esa tarea."
   ]
  },
  {
   "cell_type": "markdown",
   "id": "fde21881-7e4c-4ff6-bb14-c11b96bddf80",
   "metadata": {},
   "source": [
    "# Código 5.9 \n",
    "Función que calcula la ganancia mediante los valores obtenidos en el diccionario de entrada"
   ]
  },
  {
   "cell_type": "code",
   "execution_count": 1,
   "id": "cfbba73a-f008-4831-9f9c-ab35fd015297",
   "metadata": {},
   "outputs": [],
   "source": [
    "def get_profit(d):\n",
    "    return d.get(\"price-sell\", 0) - d.get(\"price-buy\", 0)"
   ]
  },
  {
   "cell_type": "markdown",
   "id": "f394ccd2-c95a-41fa-8d3f-eea53e3226dc",
   "metadata": {},
   "source": [
    "# Código 5.10\n",
    "Una función genérica bajo-medio-alto"
   ]
  },
  {
   "cell_type": "code",
   "execution_count": 2,
   "id": "5294afb1-4470-46cf-b430-c16a224a8dd4",
   "metadata": {},
   "outputs": [],
   "source": [
    "def low_med_hi(d, k, low, high):\n",
    "    if d[k] < low:\n",
    "        return \"low\"\n",
    "    elif d[k] < high:\n",
    "        return \"med\"\n",
    "    return \"high\""
   ]
  },
  {
   "cell_type": "markdown",
   "id": "a5da0b86-b58a-4185-a157-dc19ceb18440",
   "metadata": {},
   "source": [
    "Ya con esta función escrita, aún se requiere hacer lo siguiente:\n",
    "1. Tomar un diccionario\n",
    "2. Limpiar el diccionario con la función _select_keys_\n",
    "3. Devolver un diccionario que tenga tres llaves\n",
    "\n",
    "   a. Llave _profit_ que indique la ganancia obtenida por el vehículo\n",
    "   b. Llave _mpg_ que indique la categoría del consumo de combustible del vehículo\n",
    "   c. Llave _odo_ que indique el uso del vehículo"
   ]
  },
  {
   "cell_type": "markdown",
   "id": "89cfa1b4-b2a4-47f0-98c9-26dd425ffd4c",
   "metadata": {},
   "source": [
    "# Código 5.11\n",
    "Uniendo las funciones _helper_ en una sola"
   ]
  },
  {
   "cell_type": "code",
   "execution_count": 10,
   "id": "0d20e869-a19a-422c-802b-79afa0f014c9",
   "metadata": {},
   "outputs": [],
   "source": [
    "def clean_entry(d):\n",
    "    r = {}\n",
    "    r['profit'] = get_profit(d)\n",
    "    r['mpg'] = low_med_hi(d, 'mpg', (18, 35)) # Se utilizará una tupla para low y high\n",
    "    r['odo'] = low_med_hi(d, 'odo', (60000, 100000))\n",
    "    return r"
   ]
  },
  {
   "cell_type": "markdown",
   "id": "0305cfa3-528a-4336-a330-63645cf5701d",
   "metadata": {},
   "source": [
    "## Reducción muchos a un diccionario\n",
    "![Reducción muchos a un diccionario](img/Ejercicio02-3.png)\n",
    "\n",
    "Esta función debe devolver un sólo diccionario con seis llaves: bajo, medio y alto para  _mpg_ y _odo_."
   ]
  },
  {
   "cell_type": "markdown",
   "id": "a1b5b4a6-5658-41e4-a3fa-73109ef568f2",
   "metadata": {},
   "source": [
    "# Código 5.12\n",
    "Acumulador promedio de ganancias y funciones _helper_\n",
    "\n",
    "La función toma el total acumulado, un contador y el promedio de la categoría del auto y los mezcla\n",
    "para el nuevo auto. También incrementa el contador y calcula de nuevo el promedio."
   ]
  },
  {
   "cell_type": "code",
   "execution_count": 7,
   "id": "1788ec0e-50df-437f-b21b-32450372d60d",
   "metadata": {},
   "outputs": [],
   "source": [
    "# Cálculo de la ganacia promedio\n",
    "def acc_average(acc, profit):\n",
    "    acc['total'] = acc.get('total', 0) + profit\n",
    "    acc['count'] = acc.get('count', 0) + 1\n",
    "    acc['average'] = acc.get['total']/acc['count']\n",
    "    return acc\n",
    "\n",
    "# Se busca el elemento dado por _nxt_ en el diccionario y si no se encuentra\n",
    "# se crea uno vacío. \n",
    "def sort_and_add(acc, nxt):\n",
    "    profit = nxt['profit']\n",
    "    nxt_mpg = acc['mpg'].get(nxt['mpg'], {})\n",
    "    nxt_odo = acc['odo'].get(nxt['odo'], {})\n",
    "    acc['mpg'][nxt['mpg']] = acc_average(nxt_mpg, profit)\n",
    "    acc['odo'][nxt['odo']] = acc_average(nxt_odo, profit)\n",
    "    return acc"
   ]
  },
  {
   "cell_type": "markdown",
   "id": "5fbd8b08-a959-4fa2-939c-20ffdfa756ed",
   "metadata": {},
   "source": [
    "Se utilizará _map_ para aplicar la función _clean_entry_ para cada elemento en los datos, resultando así una secuencia limpia de datos que están listos para el _reduce_. \n",
    "\n",
    "Ahora se llamará a la función _reduce_ con sus tres parámetros:\n",
    "1. La función acumulador\n",
    "2. Los datos\n",
    "3. Un inicializador opcional\n",
    "\n",
    "Para la función acumulador se utiliza _sort_and_add_.\n",
    "Para los datos se utilizan los resultados de la operación _map_.\n",
    "Para el inicializador se utiliza un diccionario vacío."
   ]
  },
  {
   "cell_type": "markdown",
   "id": "51802a30-6d31-4555-96a2-5d6c7a3d9d7b",
   "metadata": {},
   "source": [
    "# Código 5.13 \n",
    "_Map_ y _reduce_ para encontrar la ganancia promedio de autos usados"
   ]
  },
  {
   "cell_type": "code",
   "execution_count": 22,
   "id": "da09e77b-b749-4ce6-bce5-e87289a4f56f",
   "metadata": {},
   "outputs": [
    {
     "name": "stdout",
     "output_type": "stream",
     "text": [
      "{\n",
      "    \"mpg\": {\n",
      "        \"medium\": {\n",
      "            \"total\": 190981.97999999998,\n",
      "            \"count\": 174,\n",
      "            \"average\": 1097.5975862068965\n",
      "        },\n",
      "        \"high\": {\n",
      "            \"total\": 172049.0,\n",
      "            \"count\": 142,\n",
      "            \"average\": 1211.612676056338\n",
      "        },\n",
      "        \"low\": {\n",
      "            \"total\": 44183.0,\n",
      "            \"count\": 34,\n",
      "            \"average\": 1299.5\n",
      "        }\n",
      "    },\n",
      "    \"odo\": {\n",
      "        \"medium\": {\n",
      "            \"total\": 312752.0,\n",
      "            \"count\": 255,\n",
      "            \"average\": 1226.478431372549\n",
      "        },\n",
      "        \"low\": {\n",
      "            \"total\": 84286.98,\n",
      "            \"count\": 85,\n",
      "            \"average\": 991.6115294117646\n",
      "        },\n",
      "        \"high\": {\n",
      "            \"total\": 10175.0,\n",
      "            \"count\": 10,\n",
      "            \"average\": 1017.5\n",
      "        }\n",
      "    }\n",
      "}\n"
     ]
    }
   ],
   "source": [
    "from functools import reduce\n",
    "\n",
    "def low_med_hi(d, k, breaks):\n",
    "    if float(d[k]) < breaks[0]:\n",
    "        return \"low\"\n",
    "    elif float(d[k]) < breaks[1]:\n",
    "        return \"medium\"\n",
    "    else:\n",
    "        return \"high\"\n",
    "\n",
    "def clean_entry(d):\n",
    "    r = {'profit': None, 'mpg': None, 'odo': None}\n",
    "    r['profit'] = float(d.get(\"price-sell\", 0)) - float(d.get(\"price-buy\", 0))\n",
    "    r['mpg'] = low_med_hi(d, 'mpg', (18, 35))\n",
    "    r['odo'] = low_med_hi(d, 'odo', (60000, 100000))\n",
    "    return r\n",
    "\n",
    "def acc_average(acc, profit): \n",
    "    acc['total'] = acc.get('total', 0) + profit\n",
    "    acc['count'] = acc.get('count', 0) + 1\n",
    "    acc['average'] = acc['total']/acc['count']\n",
    "    return acc\n",
    "\n",
    "def sort_and_add(acc, nxt):\n",
    "    p = nxt['profit']\n",
    "    acc['mpg'][nxt['mpg']] = acc_average(acc['mpg'].get(nxt['mpg'], {}), p)\n",
    "    acc['odo'][nxt['odo']] = acc_average(acc['odo'].get(nxt['odo'], {}), p)\n",
    "    return acc\n",
    "\n",
    "if __name__ == \"__main__\":\n",
    "    import json\n",
    "    with open(\"cars.json\") as f:\n",
    "        xs = json.load(f)\n",
    "    results = reduce(sort_and_add, map(clean_entry, xs), {\"mpg\": {}, \"odo\": {}})\n",
    "    print(json.dumps(results, indent=4))"
   ]
  },
  {
   "cell_type": "code",
   "execution_count": null,
   "id": "9ee7be91-4fee-4b84-bc49-924dd4dc1016",
   "metadata": {},
   "outputs": [],
   "source": []
  }
 ],
 "metadata": {
  "kernelspec": {
   "display_name": "Python 3 (ipykernel)",
   "language": "python",
   "name": "python3"
  },
  "language_info": {
   "codemirror_mode": {
    "name": "ipython",
    "version": 3
   },
   "file_extension": ".py",
   "mimetype": "text/x-python",
   "name": "python",
   "nbconvert_exporter": "python",
   "pygments_lexer": "ipython3",
   "version": "3.11.3"
  }
 },
 "nbformat": 4,
 "nbformat_minor": 5
}
